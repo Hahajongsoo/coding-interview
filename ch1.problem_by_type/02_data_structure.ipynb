{
 "cells": [
  {
   "cell_type": "code",
   "execution_count": 5,
   "metadata": {},
   "outputs": [],
   "source": [
    "import sys, io\n",
    "file = open(\"inputs.txt\", 'w')\n",
    "# 다음 데이터에 그대로 여러 데이터를 복사붙여넣기 하면 됨\n",
    "data = \"\"\"8\n",
    "4\n",
    "3\n",
    "6\n",
    "8\n",
    "7\n",
    "5\n",
    "2\n",
    "1\n",
    "\"\"\"\n",
    "file.write(data)\n",
    "file.close()\n",
    "input_file = open(\"inputs.txt\", \"r\") \n",
    "sys.stdin = io.StringIO(input_file.read())"
   ]
  },
  {
   "cell_type": "code",
   "execution_count": 6,
   "metadata": {},
   "outputs": [
    {
     "name": "stdout",
     "output_type": "stream",
     "text": [
      "+\n",
      "+\n",
      "+\n",
      "+\n",
      "-\n",
      "-\n",
      "+\n",
      "+\n",
      "-\n",
      "+\n",
      "+\n",
      "-\n",
      "-\n",
      "-\n",
      "-\n",
      "-\n"
     ]
    }
   ],
   "source": [
    "import sys\n",
    "input = sys.stdin.readline\n",
    "n = int(input().strip())\n",
    "stack = []\n",
    "count = []\n",
    "m = 0\n",
    "result = True\n",
    "for _ in range(n):\n",
    "    x = int(input().strip())\n",
    "    if x > m:\n",
    "        while x > m:\n",
    "            m += 1\n",
    "            stack.append(m)\n",
    "            count.append('+')\n",
    "        stack.pop()\n",
    "        count.append('-')\n",
    "    else:\n",
    "        if x == stack[-1]:\n",
    "            stack.pop()\n",
    "            count.append('-')\n",
    "        else:\n",
    "            result = False\n",
    "            break\n",
    "if result:\n",
    "    print('\\n'.join(count))\n",
    "else:\n",
    "    print('NO')"
   ]
  },
  {
   "cell_type": "code",
   "execution_count": 7,
   "metadata": {},
   "outputs": [
    {
     "data": {
      "text/plain": [
       "'+\\n+\\n+\\n+\\n-\\n-\\n+\\n+\\n-\\n+\\n+\\n-\\n-\\n-\\n-\\n-'"
      ]
     },
     "execution_count": 7,
     "metadata": {},
     "output_type": "execute_result"
    }
   ],
   "source": [
    "'\\n'.join(count)"
   ]
  },
  {
   "cell_type": "code",
   "execution_count": null,
   "metadata": {},
   "outputs": [],
   "source": []
  }
 ],
 "metadata": {
  "kernelspec": {
   "display_name": "Python 3.9.13",
   "language": "python",
   "name": "python3"
  },
  "language_info": {
   "codemirror_mode": {
    "name": "ipython",
    "version": 3
   },
   "file_extension": ".py",
   "mimetype": "text/x-python",
   "name": "python",
   "nbconvert_exporter": "python",
   "pygments_lexer": "ipython3",
   "version": "3.9.13"
  },
  "orig_nbformat": 4,
  "vscode": {
   "interpreter": {
    "hash": "3c154601d1f8476a9b9a6d0dc490beef72afd36a9b8203fe2cb34bfcd680bb6c"
   }
  }
 },
 "nbformat": 4,
 "nbformat_minor": 2
}
