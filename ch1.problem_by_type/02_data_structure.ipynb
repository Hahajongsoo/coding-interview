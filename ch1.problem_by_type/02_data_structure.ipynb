{
 "cells": [
  {
   "cell_type": "code",
   "execution_count": 5,
   "metadata": {},
   "outputs": [],
   "source": [
    "import sys, io\n",
    "file = open(\"inputs.txt\", 'w')\n",
    "# 다음 데이터에 그대로 여러 데이터를 복사붙여넣기 하면 됨\n",
    "data = \"\"\"8\n",
    "4\n",
    "3\n",
    "6\n",
    "8\n",
    "7\n",
    "5\n",
    "2\n",
    "1\n",
    "\"\"\"\n",
    "file.write(data)\n",
    "file.close()\n",
    "input_file = open(\"inputs.txt\", \"r\") \n",
    "sys.stdin = io.StringIO(input_file.read())"
   ]
  },
  {
   "cell_type": "code",
   "execution_count": 6,
   "metadata": {},
   "outputs": [
    {
     "name": "stdout",
     "output_type": "stream",
     "text": [
      "+\n",
      "+\n",
      "+\n",
      "+\n",
      "-\n",
      "-\n",
      "+\n",
      "+\n",
      "-\n",
      "+\n",
      "+\n",
      "-\n",
      "-\n",
      "-\n",
      "-\n",
      "-\n"
     ]
    }
   ],
   "source": [
    "import sys\n",
    "input = sys.stdin.readline\n",
    "n = int(input().strip())\n",
    "stack = []\n",
    "count = []\n",
    "m = 0\n",
    "result = True\n",
    "for _ in range(n):\n",
    "    x = int(input().strip())\n",
    "    if x > m:\n",
    "        while x > m:\n",
    "            m += 1\n",
    "            stack.append(m)\n",
    "            count.append('+')\n",
    "        stack.pop()\n",
    "        count.append('-')\n",
    "    else:\n",
    "        if x == stack[-1]:\n",
    "            stack.pop()\n",
    "            count.append('-')\n",
    "        else:\n",
    "            result = False\n",
    "            break\n",
    "if result:\n",
    "    print('\\n'.join(count))\n",
    "else:\n",
    "    print('NO')"
   ]
  },
  {
   "cell_type": "markdown",
   "metadata": {},
   "source": [
    "1966번 프린터 큐 "
   ]
  },
  {
   "cell_type": "code",
   "execution_count": 40,
   "metadata": {},
   "outputs": [],
   "source": [
    "import sys, io\n",
    "file = open(\"inputs.txt\", 'w')\n",
    "# 다음 데이터에 그대로 여러 데이터를 복사붙여넣기 하면 됨\n",
    "data = \"\"\"3\n",
    "1 0\n",
    "5\n",
    "4 2\n",
    "1 2 3 4\n",
    "6 0\n",
    "1 1 9 1 1 1\n",
    "\"\"\"\n",
    "file.write(data)\n",
    "file.close()\n",
    "input_file = open(\"inputs.txt\", \"r\") \n",
    "sys.stdin = io.StringIO(input_file.read())"
   ]
  },
  {
   "cell_type": "code",
   "execution_count": 34,
   "metadata": {},
   "outputs": [
    {
     "name": "stdout",
     "output_type": "stream",
     "text": [
      "1\n",
      "2\n",
      "5\n"
     ]
    }
   ],
   "source": [
    "import sys\n",
    "input = sys.stdin.readline\n",
    "\n",
    "\n",
    "for _ in range(int(input())):\n",
    "    count = 0\n",
    "    N, M = map(int, input().split())\n",
    "    priority = list(map(int, input().split()))\n",
    "    dummy_ = [0 for _ in range(N)]\n",
    "    dummy_[M] = 1\n",
    "    target = priority[M]\n",
    "    while True:\n",
    "        if max(priority) > priority[0]:\n",
    "            priority = priority[1:] + priority[:1]\n",
    "            dummy_ = dummy_[1:] + dummy_[:1]\n",
    "        else:\n",
    "            del priority[0]\n",
    "            count += 1\n",
    "            if dummy_[0] == 1:\n",
    "                print(count)\n",
    "                break \n",
    "            else:\n",
    "                del dummy_[0]\n",
    "    "
   ]
  },
  {
   "cell_type": "code",
   "execution_count": 41,
   "metadata": {},
   "outputs": [
    {
     "name": "stdout",
     "output_type": "stream",
     "text": [
      "1\n",
      "2\n",
      "5\n"
     ]
    }
   ],
   "source": [
    "import sys\n",
    "input = sys.stdin.readline\n",
    "\n",
    "for _ in range(int(input())):\n",
    "    count = 0\n",
    "    N, M = map(int, input().split())\n",
    "    queue_ = list(map(int, input().split()))\n",
    "    queue_ = [(priority, i) for i, priority in enumerate(queue_)]\n",
    "    while True:\n",
    "        if max(queue_, key=lambda x:x[0])[0] > queue_[0][0]:\n",
    "            queue_.append(queue_.pop(0))\n",
    "        else:\n",
    "            count += 1\n",
    "            if queue_[0][1] == M:\n",
    "                print(count)\n",
    "                break \n",
    "            else:\n",
    "                queue_.pop(0)\n",
    "            \n"
   ]
  },
  {
   "cell_type": "markdown",
   "metadata": {},
   "source": [
    "5396 키로거"
   ]
  },
  {
   "cell_type": "code",
   "execution_count": 76,
   "metadata": {},
   "outputs": [],
   "source": [
    "import sys, io\n",
    "file = open(\"inputs.txt\", 'w')\n",
    "# 다음 데이터에 그대로 여러 데이터를 복사붙여넣기 하면 됨\n",
    "data = \"\"\"2\n",
    "<<BP<A>>Cd-\n",
    "ThIsIsS3Cr3t\n",
    "\"\"\"\n",
    "file.write(data)\n",
    "file.close()\n",
    "input_file = open(\"inputs.txt\", \"r\") \n",
    "sys.stdin = io.StringIO(input_file.read())"
   ]
  },
  {
   "cell_type": "code",
   "execution_count": 77,
   "metadata": {},
   "outputs": [
    {
     "name": "stdout",
     "output_type": "stream",
     "text": [
      "BAPC\n",
      "ThIsIsS3Cr3t\n"
     ]
    }
   ],
   "source": [
    "import sys\n",
    "input = sys.stdin.readline\n",
    "for _ in range(int(input())):\n",
    "    input_data = list(input().strip())\n",
    "    left_stack = []\n",
    "    right_stack = []\n",
    "    for key in input_data:\n",
    "        if key == '>':\n",
    "            if right_stack:\n",
    "                left_stack.append(right_stack.pop())\n",
    "        elif key == '<':\n",
    "            if left_stack:\n",
    "                right_stack.append(left_stack.pop())\n",
    "        elif key == '-':\n",
    "            if left_stack:\n",
    "                left_stack.pop()\n",
    "        else:\n",
    "            left_stack.append(key)\n",
    "    left_stack.extend(reversed(right_stack))\n",
    "    print(''.join(left_stack))"
   ]
  },
  {
   "cell_type": "code",
   "execution_count": 67,
   "metadata": {},
   "outputs": [
    {
     "data": {
      "text/plain": [
       "False"
      ]
     },
     "execution_count": 67,
     "metadata": {},
     "output_type": "execute_result"
    }
   ],
   "source": [
    "a = []\n",
    "bool(a)"
   ]
  },
  {
   "cell_type": "code",
   "execution_count": null,
   "metadata": {},
   "outputs": [],
   "source": []
  }
 ],
 "metadata": {
  "kernelspec": {
   "display_name": "Python 3.8.8 ('base')",
   "language": "python",
   "name": "python3"
  },
  "language_info": {
   "codemirror_mode": {
    "name": "ipython",
    "version": 3
   },
   "file_extension": ".py",
   "mimetype": "text/x-python",
   "name": "python",
   "nbconvert_exporter": "python",
   "pygments_lexer": "ipython3",
   "version": "3.8.8"
  },
  "orig_nbformat": 4,
  "vscode": {
   "interpreter": {
    "hash": "f3f46aab5246a6d2fd17f1192791fcfd630c7eeb9a95d75f7a2a0e85c64d9216"
   }
  }
 },
 "nbformat": 4,
 "nbformat_minor": 2
}
