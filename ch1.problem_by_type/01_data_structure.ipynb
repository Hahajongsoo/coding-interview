{
 "cells": [
  {
   "cell_type": "markdown",
   "metadata": {},
   "source": [
    "2920번 음계"
   ]
  },
  {
   "cell_type": "code",
   "execution_count": 18,
   "metadata": {},
   "outputs": [],
   "source": [
    "import sys, io\n",
    "file = open(\"inputs.txt\", 'w')\n",
    "# 다음 데이터에 그대로 여러 데이터를 복사붙여넣기 하면 됨\n",
    "data = \"\"\"8 7 6 5 4 3 2 1\n",
    "\"\"\"\n",
    "file.write(data)\n",
    "file.close()\n",
    "input_file = open(\"inputs.txt\", \"r\") \n",
    "sys.stdin = io.StringIO(input_file.read())"
   ]
  },
  {
   "cell_type": "code",
   "execution_count": 19,
   "metadata": {},
   "outputs": [
    {
     "name": "stdout",
     "output_type": "stream",
     "text": [
      "descending\n"
     ]
    }
   ],
   "source": [
    "import sys\n",
    "input = sys.stdin.readline\n",
    "scale = list(map(int, input().split()))\n",
    "sorted_scale = sorted(scale)\n",
    "reversed_scale = sorted_scale.copy()\n",
    "reversed_scale.reverse()\n",
    "if scale == sorted_scale:\n",
    "    print('ascending')\n",
    "elif scale == reversed_scale:\n",
    "    print('descending')\n",
    "else:\n",
    "    print('mixed')\n"
   ]
  },
  {
   "cell_type": "markdown",
   "metadata": {},
   "source": [
    "list에서 앞뒤를 계속 비교"
   ]
  },
  {
   "cell_type": "code",
   "execution_count": null,
   "metadata": {},
   "outputs": [],
   "source": [
    "import sys\n",
    "input = sys.stdin.readline\n",
    "\n",
    "scale = list(map(int, input().split()))\n",
    "ascending = True\n",
    "descending = True\n",
    "\n",
    "for idx in range(7):\n",
    "    if scale[idx] < scale[idx + 1]:\n",
    "        descending = False\n",
    "    elif scale[idx] > scale[idx + 1]:\n",
    "        ascending = False\n",
    "        \n",
    "if ascending:\n",
    "    print('ascending')\n",
    "elif descending:\n",
    "    print('descending')\n",
    "else:\n",
    "    print('mixed')"
   ]
  },
  {
   "cell_type": "markdown",
   "metadata": {},
   "source": [
    "2798 블랙잭\n",
    "\n",
    "이 문제에서 가능한 모든 경우의 수는 $C(N, 3)$이며, N은 최대 100이므로 경우의 수가 그렇게 크지 않아 단순히 삼중 반복문으로 괜찮은 문제이다. "
   ]
  },
  {
   "cell_type": "code",
   "execution_count": 31,
   "metadata": {},
   "outputs": [],
   "source": [
    "import sys, io\n",
    "file = open(\"inputs.txt\", 'w')\n",
    "# 다음 데이터에 그대로 여러 데이터를 복사붙여넣기 하면 됨\n",
    "data = \"\"\"10 500\n",
    "93 181 245 214 315 36 185 138 216 295\n",
    "\"\"\"\n",
    "file.write(data)\n",
    "file.close()\n",
    "input_file = open(\"inputs.txt\", \"r\") \n",
    "sys.stdin = io.StringIO(input_file.read())"
   ]
  },
  {
   "cell_type": "code",
   "execution_count": 32,
   "metadata": {},
   "outputs": [
    {
     "name": "stdout",
     "output_type": "stream",
     "text": [
      "497\n"
     ]
    }
   ],
   "source": [
    "import sys\n",
    "input = sys.stdin.readline\n",
    "N, M = map(int, input().split())\n",
    "nums = list(map(int, input().split()))\n",
    "result = 0\n",
    "for idx1 in range(N - 2):\n",
    "    for idx2 in range(idx1 + 1, N - 1):\n",
    "        for idx3 in range(idx2 + 1, N):\n",
    "            sum_num = nums[idx1] + nums[idx2] + nums[idx3]\n",
    "            if sum_num <= M:\n",
    "                result = max(result, sum_num)\n",
    "print(result)"
   ]
  },
  {
   "cell_type": "code",
   "execution_count": null,
   "metadata": {},
   "outputs": [],
   "source": []
  }
 ],
 "metadata": {
  "kernelspec": {
   "display_name": "Python 3.8.8 ('base')",
   "language": "python",
   "name": "python3"
  },
  "language_info": {
   "codemirror_mode": {
    "name": "ipython",
    "version": 3
   },
   "file_extension": ".py",
   "mimetype": "text/x-python",
   "name": "python",
   "nbconvert_exporter": "python",
   "pygments_lexer": "ipython3",
   "version": "3.8.8"
  },
  "orig_nbformat": 4,
  "vscode": {
   "interpreter": {
    "hash": "f3f46aab5246a6d2fd17f1192791fcfd630c7eeb9a95d75f7a2a0e85c64d9216"
   }
  }
 },
 "nbformat": 4,
 "nbformat_minor": 2
}
